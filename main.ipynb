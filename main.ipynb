{
 "cells": [
  {
   "cell_type": "markdown",
   "metadata": {},
   "source": [
    "### Imports"
   ]
  },
  {
   "cell_type": "code",
   "execution_count": 15,
   "metadata": {},
   "outputs": [],
   "source": [
    "from nes_py.wrappers import JoypadSpace\n",
    "import gym_tetris\n",
    "from gym_tetris.actions import MOVEMENT\n",
    "import time\n",
    "from collections import defaultdict\n",
    "import numpy as np"
   ]
  },
  {
   "cell_type": "markdown",
   "metadata": {},
   "source": [
    "### Testing with random actions"
   ]
  },
  {
   "cell_type": "code",
   "execution_count": 13,
   "metadata": {},
   "outputs": [
    {
     "name": "stderr",
     "output_type": "stream",
     "text": [
      "c:\\Users\\sguir\\AppData\\Local\\Programs\\Python\\Python310\\lib\\site-packages\\gym\\envs\\registration.py:555: UserWarning: \u001b[33mWARN: The environment TetrisA-v2 is out of date. You should consider upgrading to version `v3`.\u001b[0m\n",
      "  logger.warn(\n",
      "c:\\Users\\sguir\\AppData\\Local\\Programs\\Python\\Python310\\lib\\site-packages\\gym\\utils\\passive_env_checker.py:195: UserWarning: \u001b[33mWARN: The result returned by `env.reset()` was not a tuple of the form `(obs, info)`, where `obs` is a observation and `info` is a dictionary containing additional information. Actual type: `<class 'numpy.ndarray'>`\u001b[0m\n",
      "  logger.warn(\n",
      "c:\\Users\\sguir\\AppData\\Local\\Programs\\Python\\Python310\\lib\\site-packages\\gym\\utils\\passive_env_checker.py:272: UserWarning: \u001b[33mWARN: No render modes was declared in the environment (env.metadata['render_modes'] is None or not defined), you may have trouble when calling `.render()`.\u001b[0m\n",
      "  logger.warn(\n",
      "c:\\Users\\sguir\\AppData\\Local\\Programs\\Python\\Python310\\lib\\site-packages\\gym\\utils\\passive_env_checker.py:219: DeprecationWarning: \u001b[33mWARN: Core environment is written in old step API which returns one bool instead of two. It is recommended to rewrite the environment with new step API. \u001b[0m\n",
      "  logger.deprecation(\n",
      "c:\\Users\\sguir\\AppData\\Local\\Programs\\Python\\Python310\\lib\\site-packages\\gym\\utils\\passive_env_checker.py:225: DeprecationWarning: `np.bool8` is a deprecated alias for `np.bool_`.  (Deprecated NumPy 1.24)\n",
      "  if not isinstance(done, (bool, np.bool8)):\n"
     ]
    }
   ],
   "source": [
    "env = gym_tetris.make('TetrisA-v2')\n",
    "env = JoypadSpace(env, MOVEMENT)\n",
    "env.reset()\n",
    "\n",
    "for _ in range(1000):\n",
    "    env.render()  # Render the environment\n",
    "    action = env.action_space.sample()  # Sample a random action\n",
    "    obs, reward, done, info = env.step(action)  # Take a step in the environment\n",
    "    if done:\n",
    "        print(\"Game Over! Resetting the environment.\")\n",
    "        env.reset()  # Reset the environment if done\n",
    "\n",
    "env.close()  # Close the environment"
   ]
  },
  {
   "cell_type": "code",
   "execution_count": 12,
   "metadata": {},
   "outputs": [],
   "source": [
    "env.close()"
   ]
  },
  {
   "cell_type": "markdown",
   "metadata": {},
   "source": [
    "### Sarsa"
   ]
  },
  {
   "cell_type": "code",
   "execution_count": 22,
   "metadata": {},
   "outputs": [],
   "source": [
    "class SARSA(object):\n",
    "    def __init__(self, env, alpha, epsilon, gamma, timeout):\n",
    "        # definte the parameters\n",
    "        self.alpha = alpha \n",
    "        self.epsilon = epsilon\n",
    "        self.gamma = gamma\n",
    "\n",
    "        # environment\n",
    "        self.env = env\n",
    "\n",
    "        # define the Q value table\n",
    "        self.Q = defaultdict(lambda: defaultdict(float))\n",
    "\n",
    "        # define the timeout for a single episode\n",
    "        self.timeout = timeout\n",
    "\n",
    "    def behavior_policy(self, state):\n",
    "\n",
    "        # epsilon-greedy policy\n",
    "        if np.random.rand() < self.epsilon:\n",
    "            \n",
    "            # explore\n",
    "            return self.env.action_space.sample()\n",
    "        \n",
    "        else:\n",
    "\n",
    "            # exploit\n",
    "            return np.argmax(self.Q[state])\n",
    "        \n",
    "    def update(self, s, a, r, s_prime, a_prime):\n",
    "\n",
    "        # update the Q value table using the SARSA update rule\n",
    "        self.Q[s][a] += self.alpha * (r + self.gamma * self.Q[s_prime][a_prime] - self.Q[s][a])\n",
    "\n",
    "    def train(self, num_episodes):\n",
    "\n",
    "        # initialize rewards\n",
    "        rewards = []\n",
    "\n",
    "        # train the agent for a number of episodes\n",
    "        for episode in range(num_episodes):\n",
    "\n",
    "            # reset the environment\n",
    "            state = self.env.reset()\n",
    "\n",
    "            # get the first action\n",
    "            action = self.behavior_policy(state)\n",
    "\n",
    "            # initialize the reward\n",
    "            reward = 0\n",
    "\n",
    "            for t in range(self.timeout):\n",
    "\n",
    "                # take the action\n",
    "                next_state, reward, done, info = self.env.step(action)\n",
    "\n",
    "                # get the next action\n",
    "                next_action = self.behavior_policy(next_state)\n",
    "\n",
    "                # update the Q value table\n",
    "                self.update(state, action, reward, next_state, next_action)\n",
    "\n",
    "                # update the state, action, and reward\n",
    "                state = next_state\n",
    "                action = next_action\n",
    "                reward += reward\n",
    "\n",
    "                # if the game is over, reset the environment\n",
    "                if done:\n",
    "                    break\n",
    "\n",
    "            # append the reward to the list of rewards\n",
    "            rewards.append(reward)\n",
    "\n",
    "            # print the average reward for the episode\n",
    "            avg_reward = np.mean(rewards[-100:])\n",
    "            print(f\"Episode {episode + 1}/{num_episodes} - Average Reward: {avg_reward:.2f}\")\n",
    "\n",
    "            # print the episode number\n",
    "            print(f\"Episode {episode + 1}/{num_episodes} completed.\")"
   ]
  },
  {
   "cell_type": "code",
   "execution_count": 24,
   "metadata": {},
   "outputs": [
    {
     "ename": "TypeError",
     "evalue": "unhashable type: 'numpy.ndarray'",
     "output_type": "error",
     "traceback": [
      "\u001b[1;31m---------------------------------------------------------------------------\u001b[0m",
      "\u001b[1;31mTypeError\u001b[0m                                 Traceback (most recent call last)",
      "Cell \u001b[1;32mIn[24], line 17\u001b[0m\n\u001b[0;32m     14\u001b[0m agent \u001b[38;5;241m=\u001b[39m SARSA(env, alpha, epsilon, gamma, timeout)\n\u001b[0;32m     16\u001b[0m \u001b[38;5;66;03m# Train the agent\u001b[39;00m\n\u001b[1;32m---> 17\u001b[0m \u001b[43magent\u001b[49m\u001b[38;5;241;43m.\u001b[39;49m\u001b[43mtrain\u001b[49m\u001b[43m(\u001b[49m\u001b[43mnum_episodes\u001b[49m\u001b[38;5;241;43m=\u001b[39;49m\u001b[38;5;241;43m1000\u001b[39;49m\u001b[43m)\u001b[49m\n\u001b[0;32m     19\u001b[0m env\u001b[38;5;241m.\u001b[39mclose()\n",
      "Cell \u001b[1;32mIn[22], line 47\u001b[0m, in \u001b[0;36mSARSA.train\u001b[1;34m(self, num_episodes)\u001b[0m\n\u001b[0;32m     44\u001b[0m state \u001b[38;5;241m=\u001b[39m \u001b[38;5;28mself\u001b[39m\u001b[38;5;241m.\u001b[39menv\u001b[38;5;241m.\u001b[39mreset()\n\u001b[0;32m     46\u001b[0m \u001b[38;5;66;03m# get the first action\u001b[39;00m\n\u001b[1;32m---> 47\u001b[0m action \u001b[38;5;241m=\u001b[39m \u001b[38;5;28;43mself\u001b[39;49m\u001b[38;5;241;43m.\u001b[39;49m\u001b[43mbehavior_policy\u001b[49m\u001b[43m(\u001b[49m\u001b[43mstate\u001b[49m\u001b[43m)\u001b[49m\n\u001b[0;32m     49\u001b[0m \u001b[38;5;66;03m# initialize the reward\u001b[39;00m\n\u001b[0;32m     50\u001b[0m reward \u001b[38;5;241m=\u001b[39m \u001b[38;5;241m0\u001b[39m\n",
      "Cell \u001b[1;32mIn[22], line 28\u001b[0m, in \u001b[0;36mSARSA.behavior_policy\u001b[1;34m(self, state)\u001b[0m\n\u001b[0;32m     23\u001b[0m     \u001b[38;5;28;01mreturn\u001b[39;00m \u001b[38;5;28mself\u001b[39m\u001b[38;5;241m.\u001b[39menv\u001b[38;5;241m.\u001b[39maction_space\u001b[38;5;241m.\u001b[39msample()\n\u001b[0;32m     25\u001b[0m \u001b[38;5;28;01melse\u001b[39;00m:\n\u001b[0;32m     26\u001b[0m \n\u001b[0;32m     27\u001b[0m     \u001b[38;5;66;03m# exploit\u001b[39;00m\n\u001b[1;32m---> 28\u001b[0m     \u001b[38;5;28;01mreturn\u001b[39;00m np\u001b[38;5;241m.\u001b[39margmax(\u001b[38;5;28;43mself\u001b[39;49m\u001b[38;5;241;43m.\u001b[39;49m\u001b[43mQ\u001b[49m\u001b[43m[\u001b[49m\u001b[43mstate\u001b[49m\u001b[43m]\u001b[49m)\n",
      "\u001b[1;31mTypeError\u001b[0m: unhashable type: 'numpy.ndarray'"
     ]
    }
   ],
   "source": [
    "# Example usage\n",
    "if __name__ == \"__main__\":\n",
    "    env = gym_tetris.make('TetrisA-v2')\n",
    "    env = JoypadSpace(env, MOVEMENT)\n",
    "    env.reset()\n",
    "\n",
    "    # Define the parameters\n",
    "    alpha = 0.1\n",
    "    epsilon = 0.1\n",
    "    gamma = 0.9\n",
    "    timeout = 1000\n",
    "\n",
    "    # Create the SARSA agent\n",
    "    agent = SARSA(env, alpha, epsilon, gamma, timeout)\n",
    "\n",
    "    # Train the agent\n",
    "    agent.train(num_episodes=1000)\n",
    "\n",
    "    env.close()"
   ]
  }
 ],
 "metadata": {
  "kernelspec": {
   "display_name": "Python 3",
   "language": "python",
   "name": "python3"
  },
  "language_info": {
   "codemirror_mode": {
    "name": "ipython",
    "version": 3
   },
   "file_extension": ".py",
   "mimetype": "text/x-python",
   "name": "python",
   "nbconvert_exporter": "python",
   "pygments_lexer": "ipython3",
   "version": "3.10.11"
  }
 },
 "nbformat": 4,
 "nbformat_minor": 2
}
